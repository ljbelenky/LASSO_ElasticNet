{
 "cells": [
  {
   "cell_type": "code",
   "execution_count": 1,
   "metadata": {},
   "outputs": [],
   "source": [
    "import pandas as pd\n",
    "import numpy as np\n",
    "import matplotlib.pyplot as plt"
   ]
  },
  {
   "cell_type": "markdown",
   "metadata": {},
   "source": [
    "## Load the Data"
   ]
  },
  {
   "cell_type": "code",
   "execution_count": 2,
   "metadata": {},
   "outputs": [
    {
     "data": {
      "text/html": [
       "<div>\n",
       "<style scoped>\n",
       "    .dataframe tbody tr th:only-of-type {\n",
       "        vertical-align: middle;\n",
       "    }\n",
       "\n",
       "    .dataframe tbody tr th {\n",
       "        vertical-align: top;\n",
       "    }\n",
       "\n",
       "    .dataframe thead th {\n",
       "        text-align: right;\n",
       "    }\n",
       "</style>\n",
       "<table border=\"1\" class=\"dataframe\">\n",
       "  <thead>\n",
       "    <tr style=\"text-align: right;\">\n",
       "      <th></th>\n",
       "      <th>AMAT_fac</th>\n",
       "      <th>HIVincidence</th>\n",
       "      <th>MH_fac</th>\n",
       "      <th>Med_AMAT_fac</th>\n",
       "      <th>Med_MH_fac</th>\n",
       "      <th>Med_SA_fac</th>\n",
       "      <th>Med_SMAT_fac</th>\n",
       "      <th>Med_TMAT_fac</th>\n",
       "      <th>Population</th>\n",
       "      <th>SA_fac</th>\n",
       "      <th>...</th>\n",
       "      <th>SD</th>\n",
       "      <th>TN</th>\n",
       "      <th>TX</th>\n",
       "      <th>UT</th>\n",
       "      <th>VA</th>\n",
       "      <th>VT</th>\n",
       "      <th>WA</th>\n",
       "      <th>WI</th>\n",
       "      <th>WV</th>\n",
       "      <th>WY</th>\n",
       "    </tr>\n",
       "  </thead>\n",
       "  <tbody>\n",
       "    <tr>\n",
       "      <th>0</th>\n",
       "      <td>0.0</td>\n",
       "      <td>10.9</td>\n",
       "      <td>1.0</td>\n",
       "      <td>0.0</td>\n",
       "      <td>1.0</td>\n",
       "      <td>2.0</td>\n",
       "      <td>0.0</td>\n",
       "      <td>0.0</td>\n",
       "      <td>55035.0</td>\n",
       "      <td>2.0</td>\n",
       "      <td>...</td>\n",
       "      <td>0</td>\n",
       "      <td>0</td>\n",
       "      <td>0</td>\n",
       "      <td>0</td>\n",
       "      <td>0</td>\n",
       "      <td>0</td>\n",
       "      <td>0</td>\n",
       "      <td>0</td>\n",
       "      <td>0</td>\n",
       "      <td>0</td>\n",
       "    </tr>\n",
       "    <tr>\n",
       "      <th>1</th>\n",
       "      <td>0.0</td>\n",
       "      <td>8.7</td>\n",
       "      <td>4.0</td>\n",
       "      <td>0.0</td>\n",
       "      <td>3.0</td>\n",
       "      <td>1.0</td>\n",
       "      <td>0.0</td>\n",
       "      <td>0.0</td>\n",
       "      <td>203690.0</td>\n",
       "      <td>2.0</td>\n",
       "      <td>...</td>\n",
       "      <td>0</td>\n",
       "      <td>0</td>\n",
       "      <td>0</td>\n",
       "      <td>0</td>\n",
       "      <td>0</td>\n",
       "      <td>0</td>\n",
       "      <td>0</td>\n",
       "      <td>0</td>\n",
       "      <td>0</td>\n",
       "      <td>0</td>\n",
       "    </tr>\n",
       "    <tr>\n",
       "      <th>2</th>\n",
       "      <td>0.0</td>\n",
       "      <td>0.0</td>\n",
       "      <td>1.0</td>\n",
       "      <td>0.0</td>\n",
       "      <td>1.0</td>\n",
       "      <td>1.0</td>\n",
       "      <td>0.0</td>\n",
       "      <td>0.0</td>\n",
       "      <td>26270.0</td>\n",
       "      <td>1.0</td>\n",
       "      <td>...</td>\n",
       "      <td>0</td>\n",
       "      <td>0</td>\n",
       "      <td>0</td>\n",
       "      <td>0</td>\n",
       "      <td>0</td>\n",
       "      <td>0</td>\n",
       "      <td>0</td>\n",
       "      <td>0</td>\n",
       "      <td>0</td>\n",
       "      <td>0</td>\n",
       "    </tr>\n",
       "    <tr>\n",
       "      <th>3</th>\n",
       "      <td>0.0</td>\n",
       "      <td>0.0</td>\n",
       "      <td>0.0</td>\n",
       "      <td>0.0</td>\n",
       "      <td>0.0</td>\n",
       "      <td>1.0</td>\n",
       "      <td>1.0</td>\n",
       "      <td>0.0</td>\n",
       "      <td>22561.0</td>\n",
       "      <td>1.0</td>\n",
       "      <td>...</td>\n",
       "      <td>0</td>\n",
       "      <td>0</td>\n",
       "      <td>0</td>\n",
       "      <td>0</td>\n",
       "      <td>0</td>\n",
       "      <td>0</td>\n",
       "      <td>0</td>\n",
       "      <td>0</td>\n",
       "      <td>0</td>\n",
       "      <td>0</td>\n",
       "    </tr>\n",
       "    <tr>\n",
       "      <th>4</th>\n",
       "      <td>0.0</td>\n",
       "      <td>10.4</td>\n",
       "      <td>1.0</td>\n",
       "      <td>0.0</td>\n",
       "      <td>1.0</td>\n",
       "      <td>1.0</td>\n",
       "      <td>0.0</td>\n",
       "      <td>0.0</td>\n",
       "      <td>57676.0</td>\n",
       "      <td>1.0</td>\n",
       "      <td>...</td>\n",
       "      <td>0</td>\n",
       "      <td>0</td>\n",
       "      <td>0</td>\n",
       "      <td>0</td>\n",
       "      <td>0</td>\n",
       "      <td>0</td>\n",
       "      <td>0</td>\n",
       "      <td>0</td>\n",
       "      <td>0</td>\n",
       "      <td>0</td>\n",
       "    </tr>\n",
       "  </tbody>\n",
       "</table>\n",
       "<p>5 rows × 82 columns</p>\n",
       "</div>"
      ],
      "text/plain": [
       "   AMAT_fac  HIVincidence  MH_fac  Med_AMAT_fac  Med_MH_fac  Med_SA_fac  \\\n",
       "0       0.0          10.9     1.0           0.0         1.0         2.0   \n",
       "1       0.0           8.7     4.0           0.0         3.0         1.0   \n",
       "2       0.0           0.0     1.0           0.0         1.0         1.0   \n",
       "3       0.0           0.0     0.0           0.0         0.0         1.0   \n",
       "4       0.0          10.4     1.0           0.0         1.0         1.0   \n",
       "\n",
       "   Med_SMAT_fac  Med_TMAT_fac  Population  SA_fac  ...  SD  TN  TX  UT  VA  \\\n",
       "0           0.0           0.0     55035.0     2.0  ...   0   0   0   0   0   \n",
       "1           0.0           0.0    203690.0     2.0  ...   0   0   0   0   0   \n",
       "2           0.0           0.0     26270.0     1.0  ...   0   0   0   0   0   \n",
       "3           1.0           0.0     22561.0     1.0  ...   0   0   0   0   0   \n",
       "4           0.0           0.0     57676.0     1.0  ...   0   0   0   0   0   \n",
       "\n",
       "   VT  WA  WI  WV  WY  \n",
       "0   0   0   0   0   0  \n",
       "1   0   0   0   0   0  \n",
       "2   0   0   0   0   0  \n",
       "3   0   0   0   0   0  \n",
       "4   0   0   0   0   0  \n",
       "\n",
       "[5 rows x 82 columns]"
      ]
     },
     "execution_count": 2,
     "metadata": {},
     "output_type": "execute_result"
    }
   ],
   "source": [
    "df = pd.read_csv('HIV_df.csv')\n",
    "df.head()"
   ]
  },
  {
   "cell_type": "markdown",
   "metadata": {},
   "source": [
    "## Discard one bad outlier"
   ]
  },
  {
   "cell_type": "code",
   "execution_count": 3,
   "metadata": {},
   "outputs": [],
   "source": [
    "df = df[df['HIVincidence']!=df['HIVincidence'].max()]"
   ]
  },
  {
   "cell_type": "code",
   "execution_count": 4,
   "metadata": {},
   "outputs": [
    {
     "data": {
      "text/plain": [
       "Index(['AMAT_fac', 'HIVincidence', 'MH_fac', 'Med_AMAT_fac', 'Med_MH_fac',\n",
       "       'Med_SA_fac', 'Med_SMAT_fac', 'Med_TMAT_fac', 'Population', 'SA_fac',\n",
       "       'SMAT_fac', 'TMAT_fac', 'drugdeathrate', 'drugdeathrate_est',\n",
       "       'drugdeaths', 'mme_percap', 'partD30dayrxrate', 'pctunins', 'num_SSPs',\n",
       "       'bup_phys', 'drugdep', 'pctunmetneed', 'nonmedpain', 'ADULTMEN',\n",
       "       'MSM12MTH', 'MSM5YEAR', '%msm12month', '%msm5yr', 'unemployment_rate',\n",
       "       'poverty_rate', 'household_income', 'AK', 'AL', 'AR', 'AZ', 'CA', 'CO',\n",
       "       'CT', 'DC', 'DE', 'FL', 'GA', 'HI', 'IA', 'ID', 'IL', 'IN', 'KS', 'KY',\n",
       "       'LA', 'MA', 'MD', 'ME', 'MI', 'MN', 'MO', 'MS', 'MT', 'NC', 'ND', 'NE',\n",
       "       'NH', 'NJ', 'NM', 'NV', 'NY', 'OH', 'OK', 'OR', 'PA', 'RI', 'SC', 'SD',\n",
       "       'TN', 'TX', 'UT', 'VA', 'VT', 'WA', 'WI', 'WV', 'WY'],\n",
       "      dtype='object')"
      ]
     },
     "execution_count": 4,
     "metadata": {},
     "output_type": "execute_result"
    }
   ],
   "source": [
    "df.columns"
   ]
  },
  {
   "cell_type": "markdown",
   "metadata": {},
   "source": [
    "## Separate into X and y\n"
   ]
  },
  {
   "cell_type": "code",
   "execution_count": 5,
   "metadata": {},
   "outputs": [],
   "source": [
    "try:\n",
    "    y = df.pop('HIVincidence')\n",
    "except:\n",
    "    pass\n",
    "X = df.values"
   ]
  },
  {
   "cell_type": "markdown",
   "metadata": {},
   "source": [
    "## How many counties have non-zero incidence?\n",
    "\n",
    "## ~25%"
   ]
  },
  {
   "cell_type": "code",
   "execution_count": 6,
   "metadata": {},
   "outputs": [
    {
     "data": {
      "text/plain": [
       "0.25408719346049047"
      ]
     },
     "execution_count": 6,
     "metadata": {},
     "output_type": "execute_result"
    }
   ],
   "source": [
    "(y>0).mean()"
   ]
  },
  {
   "cell_type": "markdown",
   "metadata": {},
   "source": [
    "## Scale all Features"
   ]
  },
  {
   "cell_type": "code",
   "execution_count": 7,
   "metadata": {},
   "outputs": [],
   "source": [
    "from sklearn.preprocessing import StandardScaler as SS\n",
    "X = SS().fit_transform(X)"
   ]
  },
  {
   "cell_type": "markdown",
   "metadata": {},
   "source": [
    "## Train/Test Split"
   ]
  },
  {
   "cell_type": "code",
   "execution_count": 8,
   "metadata": {},
   "outputs": [],
   "source": [
    "from sklearn.model_selection import train_test_split as TTS\n",
    "X_train, X_test, y_train, y_test = TTS(X,y)"
   ]
  },
  {
   "cell_type": "markdown",
   "metadata": {},
   "source": [
    "## Make a very simple model to predict `Zero` or `Non-Zero` HIV Incidence"
   ]
  },
  {
   "cell_type": "code",
   "execution_count": 9,
   "metadata": {},
   "outputs": [],
   "source": [
    "from sklearn.linear_model import LogisticRegression as LR\n",
    "model = LR(max_iter = 1000).fit(X_train,y_train>0)\n"
   ]
  },
  {
   "cell_type": "markdown",
   "metadata": {},
   "source": [
    "## Score the Model. "
   ]
  },
  {
   "cell_type": "code",
   "execution_count": 10,
   "metadata": {},
   "outputs": [
    {
     "data": {
      "text/plain": [
       "(0.9214350590372389, 0.9073569482288828)"
      ]
     },
     "execution_count": 10,
     "metadata": {},
     "output_type": "execute_result"
    }
   ],
   "source": [
    "model.score(X_train, y_train>0), model.score(X_test, y_test>0) "
   ]
  },
  {
   "cell_type": "markdown",
   "metadata": {},
   "source": [
    "## 90% Accuracy is a reasonable starting point for such a simple model.\n",
    " \n",
    "## Now we'll look at only the portion of the data with non-zero HIV Incidence and make a regression model"
   ]
  },
  {
   "cell_type": "code",
   "execution_count": 11,
   "metadata": {},
   "outputs": [],
   "source": [
    "HIV_X = X[y>0]\n",
    "HIV_y = y[y>0]"
   ]
  },
  {
   "cell_type": "code",
   "execution_count": 12,
   "metadata": {},
   "outputs": [
    {
     "data": {
      "text/plain": [
       "(746, 81)"
      ]
     },
     "execution_count": 12,
     "metadata": {},
     "output_type": "execute_result"
    }
   ],
   "source": [
    "HIV_X.shape"
   ]
  },
  {
   "cell_type": "code",
   "execution_count": 13,
   "metadata": {},
   "outputs": [],
   "source": [
    "HIV_X_train, HIV_X_test, HIV_y_train, HIV_y_test = TTS(HIV_X,HIV_y, random_state=1)"
   ]
  },
  {
   "cell_type": "markdown",
   "metadata": {},
   "source": [
    "## Fit a bunch of different Models with various hyperparameters"
   ]
  },
  {
   "cell_type": "code",
   "execution_count": 45,
   "metadata": {},
   "outputs": [
    {
     "data": {
      "text/plain": [
       "GridSearchCV(estimator=ElasticNet(max_iter=10000, tol=0.0005), n_jobs=-1,\n",
       "             param_grid={'alpha': array([1.00000000e-03, 1.61026203e-03, 2.59294380e-03, 4.17531894e-03,\n",
       "       6.72335754e-03, 1.08263673e-02, 1.74332882e-02, 2.80721620e-02,\n",
       "       4.52035366e-02, 7.27895384e-02, 1.17210230e-01, 1.88739182e-01,\n",
       "       3.03919538e-01, 4.89390092e-01, 7.88046282e-01, 1.26896100e+00,\n",
       "       2.04335972e+...\n",
       "                         'l1_ratio': array([0.01      , 0.04413793, 0.07827586, 0.11241379, 0.14655172,\n",
       "       0.18068966, 0.21482759, 0.24896552, 0.28310345, 0.31724138,\n",
       "       0.35137931, 0.38551724, 0.41965517, 0.4537931 , 0.48793103,\n",
       "       0.52206897, 0.5562069 , 0.59034483, 0.62448276, 0.65862069,\n",
       "       0.69275862, 0.72689655, 0.76103448, 0.79517241, 0.82931034,\n",
       "       0.86344828, 0.89758621, 0.93172414, 0.96586207, 1.        ])},\n",
       "             return_train_score=True)"
      ]
     },
     "execution_count": 45,
     "metadata": {},
     "output_type": "execute_result"
    }
   ],
   "source": [
    "from sklearn.linear_model import Lasso, Ridge, ElasticNet\n",
    "from sklearn.model_selection import GridSearchCV \n",
    "from sklearn.metrics import mean_squared_error as mse\n",
    "\n",
    "n= 30\n",
    "\n",
    "grid = GridSearchCV(ElasticNet(max_iter=10000, tol = .0005), \n",
    "                    {'alpha':np.logspace(-3,3,n),\n",
    "                     'l1_ratio': np.linspace(.01,1, n)},\n",
    "                   return_train_score = True,\n",
    "                   n_jobs = -1)\n",
    "\n",
    "grid.fit(HIV_X, HIV_y)"
   ]
  },
  {
   "cell_type": "code",
   "execution_count": 46,
   "metadata": {},
   "outputs": [
    {
     "data": {
      "text/plain": [
       "Text(0.5, 0, 'L1_Ratio repeats within Alpha')"
      ]
     },
     "execution_count": 46,
     "metadata": {},
     "output_type": "execute_result"
    },
    {
     "data": {
      "image/png": "[encoded data removed]",
      "text/plain": [
       "<Figure size 432x288 with 1 Axes>"
      ]
     },
     "metadata": {
      "needs_background": "light"
     },
     "output_type": "display_data"
    }
   ],
   "source": [
    "plt.plot(grid.cv_results_['mean_test_score'])\n",
    "plt.plot(grid.cv_results_['mean_train_score'])\n",
    "plt.suptitle(\"Train/Test Score on Grid Search CV\")  \n",
    "plt.title(\"Higher is better\")\n",
    "plt.xlabel(\"L1_Ratio repeats within Alpha\")"
   ]
  },
  {
   "cell_type": "code",
   "execution_count": 47,
   "metadata": {},
   "outputs": [
    {
     "data": {
      "image/png": "[encoded data removed]",
      "text/plain": [
       "<Figure size 432x288 with 2 Axes>"
      ]
     },
     "metadata": {
      "needs_background": "light"
     },
     "output_type": "display_data"
    }
   ],
   "source": [
    "scores = [grid.cv_results_['mean_train_score'], \n",
    "          grid.cv_results_['mean_test_score']]\n",
    "\n",
    "fig, axs = plt.subplots(1,2)\n",
    "[ax.plot(score.reshape(n,-1)) for ax, score in zip(axs, scores)]\n",
    "[ax.set_title(title) for ax, title in zip(axs, ['Train', 'Test'])];\n"
   ]
  },
  {
   "cell_type": "code",
   "execution_count": 48,
   "metadata": {},
   "outputs": [
    {
     "data": {
      "image/png": "[encoded data removed]",
      "text/plain": [
       "<Figure size 432x288 with 2 Axes>"
      ]
     },
     "metadata": {
      "needs_background": "light"
     },
     "output_type": "display_data"
    }
   ],
   "source": [
    "fig, axs = plt.subplots(1,2)\n",
    "axs[0].matshow(grid.cv_results_['mean_test_score'].reshape(n,-1), alpha = .3)\n",
    "axs[1].matshow(grid.cv_results_['mean_train_score'].reshape(n,-1), alpha = .3)\n",
    "axs[0].contour(grid.cv_results_['mean_test_score'].reshape(n,-1), levels=20)\n",
    "axs[1].contour(grid.cv_results_['mean_train_score'].reshape(n,-1), levels=20)\n",
    "axs[0].set_title(\"Test\")\n",
    "axs[1].set_title(\"Train\")\n",
    "axs[0].set_ylabel('Alpha')\n",
    "[ax.set_xlabel('L1 Ratio') for ax in axs];   "
   ]
  },
  {
   "cell_type": "code",
   "execution_count": 49,
   "metadata": {},
   "outputs": [
    {
     "data": {
      "text/plain": [
       "ElasticNet(alpha=0.4893900918477494, l1_ratio=1.0, max_iter=10000, tol=0.0005)"
      ]
     },
     "execution_count": 49,
     "metadata": {},
     "output_type": "execute_result"
    }
   ],
   "source": [
    "best = grid.best_estimator_\n",
    "best.fit(X_train, y_train)"
   ]
  },
  {
   "cell_type": "code",
   "execution_count": 50,
   "metadata": {},
   "outputs": [
    {
     "data": {
      "image/png": "[encoded data removed]",
      "text/plain": [
       "<Figure size 432x288 with 1 Axes>"
      ]
     },
     "metadata": {
      "needs_background": "light"
     },
     "output_type": "display_data"
    }
   ],
   "source": [
    "plt.scatter(best.predict(HIV_X_train), HIV_y_train, label = 'Train', alpha = .5)\n",
    "plt.scatter(best.predict(HIV_X_test), HIV_y_test, label = 'Test', alpha = .5)\n",
    "plt.plot([0,80],[0,80])\n",
    "plt.xlabel('Prediction')\n",
    "plt.ylabel('Actual');"
   ]
  },
  {
   "cell_type": "code",
   "execution_count": 51,
   "metadata": {},
   "outputs": [
    {
     "data": {
      "text/plain": [
       "Index(['Med_SA_fac', 'drugdeathrate', 'drugdeathrate_est', 'drugdeaths',\n",
       "       'partD30dayrxrate', 'pctunins', 'bup_phys', 'drugdep', 'pctunmetneed',\n",
       "       '%msm12month', 'unemployment_rate', 'poverty_rate', 'FL', 'GA', 'LA',\n",
       "       'MD', 'MS', 'NC', 'SC', 'TX', 'VA'],\n",
       "      dtype='object')"
      ]
     },
     "execution_count": 51,
     "metadata": {},
     "output_type": "execute_result"
    }
   ],
   "source": [
    "df.columns[best.coef_ !=0]"
   ]
  },
  {
   "cell_type": "code",
   "execution_count": 52,
   "metadata": {},
   "outputs": [
    {
     "data": {
      "text/plain": [
       "Index(['AMAT_fac', 'MH_fac', 'Med_AMAT_fac', 'Med_MH_fac', 'Med_SMAT_fac',\n",
       "       'Med_TMAT_fac', 'Population', 'SA_fac', 'SMAT_fac', 'TMAT_fac',\n",
       "       'mme_percap', 'num_SSPs', 'nonmedpain', 'ADULTMEN', 'MSM12MTH',\n",
       "       'MSM5YEAR', '%msm5yr', 'household_income', 'AK', 'AL', 'AR', 'AZ', 'CA',\n",
       "       'CO', 'CT', 'DC', 'DE', 'HI', 'IA', 'ID', 'IL', 'IN', 'KS', 'KY', 'MA',\n",
       "       'ME', 'MI', 'MN', 'MO', 'MT', 'ND', 'NE', 'NH', 'NJ', 'NM', 'NV', 'NY',\n",
       "       'OH', 'OK', 'OR', 'PA', 'RI', 'SD', 'TN', 'UT', 'VT', 'WA', 'WI', 'WV',\n",
       "       'WY'],\n",
       "      dtype='object')"
      ]
     },
     "execution_count": 52,
     "metadata": {},
     "output_type": "execute_result"
    }
   ],
   "source": [
    "df.columns[best.coef_ ==0]"
   ]
  },
  {
   "cell_type": "code",
   "execution_count": null,
   "metadata": {},
   "outputs": [],
   "source": []
  },
  {
   "cell_type": "code",
   "execution_count": null,
   "metadata": {},
   "outputs": [],
   "source": []
  }
 ],
 "metadata": {
  "kernelspec": {
   "display_name": "Python 3",
   "language": "python",
   "name": "python3"
  },
  "language_info": {
   "codemirror_mode": {
    "name": "ipython",
    "version": 3
   },
   "file_extension": ".py",
   "mimetype": "text/x-python",
   "name": "python",
   "nbconvert_exporter": "python",
   "pygments_lexer": "ipython3",
   "version": "3.7.6"
  }
 },
 "nbformat": 4,
 "nbformat_minor": 2
}
