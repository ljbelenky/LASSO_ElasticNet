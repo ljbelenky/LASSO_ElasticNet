{
 "cells": [
  {
   "cell_type": "code",
   "execution_count": null,
   "metadata": {},
   "outputs": [],
   "source": [
    "import pandas as pd\n",
    "import numpy as np\n",
    "import matplotlib.pyplot as plt\n",
    "import tensorflow as tf"
   ]
  },
  {
   "cell_type": "code",
   "execution_count": null,
   "metadata": {},
   "outputs": [],
   "source": [
    "tf.config.list_physical_devices()"
   ]
  },
  {
   "cell_type": "markdown",
   "metadata": {},
   "source": [
    "## Load the Data"
   ]
  },
  {
   "cell_type": "code",
   "execution_count": null,
   "metadata": {},
   "outputs": [],
   "source": [
    "df = pd.read_csv('data.csv')\n",
    "\n",
    "## Drop one bad outlier\n",
    "df = df[df['HIVincidence'] < df['HIVincidence'].max()]\n",
    "df.head()"
   ]
  },
  {
   "cell_type": "markdown",
   "metadata": {},
   "source": [
    "## Separate into X and y\n"
   ]
  },
  {
   "cell_type": "code",
   "execution_count": null,
   "metadata": {},
   "outputs": [],
   "source": [
    "try:\n",
    "    y = df.pop('HIVincidence')\n",
    "except:\n",
    "    pass\n",
    "X = df.values"
   ]
  },
  {
   "cell_type": "markdown",
   "metadata": {},
   "source": [
    "## How many observations have Zero incidence?\n",
    "\n",
    "## ~75%"
   ]
  },
  {
   "cell_type": "code",
   "execution_count": null,
   "metadata": {},
   "outputs": [],
   "source": [
    "(y==0).mean()"
   ]
  },
  {
   "cell_type": "markdown",
   "metadata": {},
   "source": [
    "## Scale all Features"
   ]
  },
  {
   "cell_type": "code",
   "execution_count": null,
   "metadata": {},
   "outputs": [],
   "source": [
    "from sklearn.preprocessing import StandardScaler as SS\n",
    "X = SS().fit_transform(X)"
   ]
  },
  {
   "cell_type": "markdown",
   "metadata": {},
   "source": [
    "## Train/Test Split"
   ]
  },
  {
   "cell_type": "code",
   "execution_count": null,
   "metadata": {},
   "outputs": [],
   "source": [
    "from sklearn.model_selection import train_test_split as TTS\n",
    "X_train, X_test, y_train, y_test = TTS(X,y, random_state = 2)"
   ]
  },
  {
   "cell_type": "markdown",
   "metadata": {},
   "source": [
    "## Make a very simple model to predict `Zero` or `Non-Zero` HIV Incidence"
   ]
  },
  {
   "cell_type": "code",
   "execution_count": null,
   "metadata": {},
   "outputs": [],
   "source": [
    "from sklearn.linear_model import LogisticRegression as LR\n",
    "model = LR(max_iter = 1000).fit(X_train,y_train>0)\n"
   ]
  },
  {
   "cell_type": "markdown",
   "metadata": {},
   "source": [
    "## Score the Model. "
   ]
  },
  {
   "cell_type": "code",
   "execution_count": null,
   "metadata": {},
   "outputs": [],
   "source": [
    "model.score(X_train, y_train>0), model.score(X_test, y_test>0) "
   ]
  },
  {
   "cell_type": "markdown",
   "metadata": {},
   "source": [
    "## 90% Accuracy is a reasonable starting point for such a simple model.\n",
    " \n",
    "## Now we'll look at only the portion of the data with non-zero HIV Incidence and make a regression model"
   ]
  },
  {
   "cell_type": "code",
   "execution_count": null,
   "metadata": {},
   "outputs": [],
   "source": [
    "HIV_X = X[y>0]\n",
    "HIV_y = y[y>0]"
   ]
  },
  {
   "cell_type": "code",
   "execution_count": null,
   "metadata": {},
   "outputs": [],
   "source": [
    "HIV_X.shape"
   ]
  },
  {
   "cell_type": "code",
   "execution_count": null,
   "metadata": {},
   "outputs": [],
   "source": [
    "(HIV_X_train, \n",
    " HIV_X_test, \n",
    " HIV_y_train, \n",
    " HIV_y_test) = TTS(HIV_X,HIV_y, random_state=2)"
   ]
  },
  {
   "cell_type": "markdown",
   "metadata": {},
   "source": [
    "# First, let's look a purely LASSO model.\n",
    "\n",
    "\n",
    "## Fit 100 different LASSO Models with alpha in the range of $10^{-3}$ to $10$"
   ]
  },
  {
   "cell_type": "code",
   "execution_count": null,
   "metadata": {},
   "outputs": [],
   "source": [
    "from sklearn.linear_model import Lasso\n",
    "from sklearn.metrics import mean_squared_error as mse\n",
    "\n",
    "train_score, test_score = [],[]\n",
    "train_r2, test_r2 = [], []\n",
    "coefs = []\n",
    "\n",
    "alphas = np.logspace(-3, 1, 100)\n",
    "\n",
    "for alpha in alphas:\n",
    "    regression = Lasso(alpha = alpha, max_iter = 10000)\n",
    "    regression.fit(HIV_X_train, HIV_y_train)\n",
    "    \n",
    "    train_score.append(mse(HIV_y_train, regression.predict(HIV_X_train), squared = False))    \n",
    "    test_score.append(mse(HIV_y_test, regression.predict(HIV_X_test), squared = False))\n",
    "    \n",
    "    train_r2.append(regression.score(HIV_X_train, HIV_y_train))\n",
    "    test_r2.append(regression.score(HIV_X_test, HIV_y_test))\n",
    "\n",
    "    coefs.append(regression.coef_)\n",
    "    \n"
   ]
  },
  {
   "cell_type": "markdown",
   "metadata": {},
   "source": [
    "## Plot the Train and Test RMSE Error.\n",
    "## Identify the alpha value that yields the lowest Test RMSE"
   ]
  },
  {
   "cell_type": "code",
   "execution_count": null,
   "metadata": {},
   "outputs": [],
   "source": [
    "plt.plot(alphas, train_score, label = 'train')   \n",
    "plt.plot(alphas, test_score, label = 'test')\n",
    "plt.legend()\n",
    "best_alpha = alphas[np.argmax(test_r2)]\n",
    "plt.axvline(best_alpha)\n",
    "plt.title(\"LASSO\")\n",
    "plt.xlabel('Alpha')\n",
    "plt.ylabel('RMSE')\n",
    "plt.xscale('log')\n",
    "plt.annotate(f'best alpha: {round(best_alpha,2)}',xy=(.005, 10));"
   ]
  },
  {
   "cell_type": "code",
   "execution_count": null,
   "metadata": {},
   "outputs": [],
   "source": [
    "plt.plot(alphas, train_r2, label = 'train')   \n",
    "plt.plot(alphas, test_r2, label = 'test')\n",
    "plt.legend()\n",
    "\n",
    "plt.axvline(best_alpha)\n",
    "plt.title(\"LASSO\")\n",
    "plt.xlabel('Alpha')\n",
    "plt.ylabel('R-Squared')\n",
    "plt.xscale('log')"
   ]
  },
  {
   "cell_type": "code",
   "execution_count": null,
   "metadata": {},
   "outputs": [],
   "source": [
    "best_alpha"
   ]
  },
  {
   "cell_type": "markdown",
   "metadata": {},
   "source": [
    "## Plot the coefficients and a vertical line to indicate the best alpha value.\n",
    "\n",
    "## Notice that at this alpha value, some of our coefficients are zero"
   ]
  },
  {
   "cell_type": "code",
   "execution_count": null,
   "metadata": {},
   "outputs": [],
   "source": [
    "plt.plot(alphas, coefs)\n",
    "plt.axvline(best_alpha)\n",
    "plt.title('Coefficients')\n",
    "plt.xscale('log')\n",
    "plt.xlabel('LASSO Alpha');"
   ]
  },
  {
   "cell_type": "markdown",
   "metadata": {},
   "source": [
    "## Build our final model based on the alpha value that gives lowest test RMSE"
   ]
  },
  {
   "cell_type": "code",
   "execution_count": null,
   "metadata": {},
   "outputs": [],
   "source": [
    "best_model = Lasso(alpha = best_alpha, max_iter = 10000)\n",
    "best_model.fit(HIV_X_train, HIV_y_train)"
   ]
  },
  {
   "cell_type": "markdown",
   "metadata": {},
   "source": [
    "## Use this best model to make predictions and compare to actuals"
   ]
  },
  {
   "cell_type": "code",
   "execution_count": null,
   "metadata": {},
   "outputs": [],
   "source": [
    "plt.scatter(best_model.predict(HIV_X_train), HIV_y_train, label = 'Train')\n",
    "plt.scatter(best_model.predict(HIV_X_test), HIV_y_test, label = 'Test')\n",
    "plt.legend()\n",
    "plt.plot([0,120],[0,120])\n",
    "plt.xlabel('Predictions')\n",
    "plt.ylabel('Actuals');\n",
    "\n"
   ]
  },
  {
   "cell_type": "markdown",
   "metadata": {},
   "source": [
    "### How many coefficients were deleted from the model?"
   ]
  },
  {
   "cell_type": "code",
   "execution_count": null,
   "metadata": {},
   "outputs": [],
   "source": [
    "(best_model.coef_==0).sum()"
   ]
  },
  {
   "cell_type": "markdown",
   "metadata": {},
   "source": [
    "### Which columns were not deleted?"
   ]
  },
  {
   "cell_type": "code",
   "execution_count": null,
   "metadata": {},
   "outputs": [],
   "source": [
    "print('\\n'.join(df.columns[best_model.coef_!=0]))"
   ]
  },
  {
   "cell_type": "markdown",
   "metadata": {},
   "source": [
    "### Which coefficients were deleted?"
   ]
  },
  {
   "cell_type": "code",
   "execution_count": null,
   "metadata": {},
   "outputs": [],
   "source": [
    "print('\\n'.join(df.columns[best_model.coef_==0]))"
   ]
  }
 ],
 "metadata": {
  "kernelspec": {
   "display_name": "Python 3",
   "language": "python",
   "name": "python3"
  },
  "language_info": {
   "codemirror_mode": {
    "name": "ipython",
    "version": 3
   },
   "file_extension": ".py",
   "mimetype": "text/x-python",
   "name": "python",
   "nbconvert_exporter": "python",
   "pygments_lexer": "ipython3",
   "version": "3.8.5"
  }
 },
 "nbformat": 4,
 "nbformat_minor": 2
}
